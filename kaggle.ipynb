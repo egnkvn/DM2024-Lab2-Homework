{
 "cells": [
  {
   "cell_type": "code",
   "execution_count": 1,
   "metadata": {},
   "outputs": [],
   "source": [
    "import pandas as pd\n",
    "import json\n",
    "\n",
    "identification = pd.read_csv(\"data/data_identification.csv\")\n",
    "emotion = pd.read_csv(\"data/emotion.csv\")\n",
    "\n",
    "records = []\n",
    "with open('data/tweets_DM.json', \"r\") as f:\n",
    "    for line in f:\n",
    "        try:\n",
    "            record = json.loads(line.strip())\n",
    "            records.append(record)\n",
    "        except json.JSONDecodeError as e:\n",
    "            print(f\"Error decoding line: {line}\")\n",
    "            continue\n",
    "\n",
    "extracted_data = []\n",
    "for item in records:\n",
    "    tweet = item['_source']['tweet']\n",
    "    tweet_id = tweet['tweet_id']\n",
    "    text = tweet['text']\n",
    "    if tweet_id and text:\n",
    "        extracted_data.append({\"tweet_id\": tweet_id, \"text\": text})\n",
    "tweet = pd.DataFrame(extracted_data)\n",
    "\n",
    "data = pd.merge(identification, emotion, on=\"tweet_id\", how=\"outer\")\n",
    "data = pd.merge(data, tweet, on=\"tweet_id\", how=\"outer\")"
   ]
  },
  {
   "cell_type": "code",
   "execution_count": 4,
   "metadata": {},
   "outputs": [],
   "source": [
    "from sklearn.model_selection import train_test_split\n",
    "\n",
    "ori_train_df = data[data[\"identification\"] == \"train\"].reset_index(drop=True)\n",
    "ori_train_df.drop_duplicates(subset=['text'], keep=False, inplace=True)\n",
    "ori_train_df_sample = ori_train_df.sample(frac=0.5, random_state=42) # Sample 50% for training"
   ]
  },
  {
   "cell_type": "markdown",
   "metadata": {},
   "source": [
    "## TFIDF"
   ]
  },
  {
   "cell_type": "code",
   "execution_count": null,
   "metadata": {},
   "outputs": [
    {
     "name": "stderr",
     "output_type": "stream",
     "text": [
      "/data1/enginekevin/anaconda3/envs/dm2/lib/python3.9/site-packages/sklearn/feature_extraction/text.py:521: UserWarning: The parameter 'token_pattern' will not be used since 'tokenizer' is not None'\n",
      "  warnings.warn(\n"
     ]
    }
   ],
   "source": [
    "import nltk\n",
    "from sklearn.feature_extraction.text import TfidfVectorizer\n",
    "\n",
    "train_df, val_df = train_test_split(ori_train_df_sample, test_size=0.2, random_state=42)\n",
    "test_df = data[data[\"identification\"] == \"test\"].reset_index(drop=True)\n",
    "\n",
    "TFIDF_1000 = TfidfVectorizer(max_features=1000, tokenizer=nltk.word_tokenize)\n",
    "TFIDF_1000.fit(train_df['text'])\n",
    "X_train = TFIDF_1000.transform(train_df['text'])\n",
    "y_train = train_df['emotion']\n",
    "X_val = TFIDF_1000.transform(val_df['text'])\n",
    "y_val = val_df['emotion']\n",
    "X_test = TFIDF_1000.transform(test_df['text'])\n"
   ]
  },
  {
   "cell_type": "code",
   "execution_count": 11,
   "metadata": {},
   "outputs": [
    {
     "name": "stdout",
     "output_type": "stream",
     "text": [
      "Training accuracy: 0.99\n",
      "Validation accuracy: 0.51\n"
     ]
    }
   ],
   "source": [
    "from sklearn.ensemble import RandomForestClassifier\n",
    "from sklearn.metrics import accuracy_score\n",
    "\n",
    "RF_model = RandomForestClassifier()\n",
    "RF_model = RF_model.fit(X_train, y_train)\n",
    "\n",
    "y_train_pred = RF_model.predict(X_train)\n",
    "y_val_pred = RF_model.predict(X_val)\n",
    "acc_train = accuracy_score(y_true=y_train, y_pred=y_train_pred)\n",
    "acc_val = accuracy_score(y_true=y_val, y_pred=y_val_pred)\n",
    "print('Training accuracy: {:.2f}'.format(acc_train))\n",
    "print('Validation accuracy: {:.2f}'.format(acc_val))"
   ]
  },
  {
   "cell_type": "code",
   "execution_count": null,
   "metadata": {},
   "outputs": [
    {
     "name": "stdout",
     "output_type": "stream",
     "text": [
      "Training Accuracy: 0.46\n",
      "Testing Accuracy: 0.46\n"
     ]
    }
   ],
   "source": [
    "# from sklearn.naive_bayes import MultinomialNB\n",
    "# from sklearn.metrics import accuracy_score\n",
    "\n",
    "# ## build model\n",
    "# NB_model = MultinomialNB()\n",
    "# ## training!\n",
    "# NB_model.fit(X_train, y_train)\n",
    "\n",
    "# ## predict!\n",
    "# y_train_pred_NB = NB_model.predict(X_train)\n",
    "# y_val_pred_NB = NB_model.predict(X_val)\n",
    "\n",
    "# ## accuracy\n",
    "# acc_train_NB = accuracy_score(y_true=y_train, y_pred=y_train_pred_NB)\n",
    "# acc_test_NB = accuracy_score(y_true=y_val, y_pred=y_val_pred_NB)\n",
    "# print('Training Accuracy: {}'.format(round(acc_train_NB, 2)))\n",
    "# print('Testing Accuracy: {}'.format(round(acc_test_NB, 2)))"
   ]
  },
  {
   "cell_type": "code",
   "execution_count": 13,
   "metadata": {},
   "outputs": [],
   "source": [
    "y_test_pred_NB = RF_model.predict(X_test)\n",
    "test_df['emotion'] = y_test_pred_NB\n",
    "save_df = test_df[['tweet_id', 'emotion']].rename(columns={'tweet_id': 'id'})\n",
    "save_df.to_csv(\"data/submission.csv\", index=False)"
   ]
  },
  {
   "cell_type": "markdown",
   "metadata": {},
   "source": [
    "## BERT"
   ]
  },
  {
   "cell_type": "code",
   "execution_count": 7,
   "metadata": {},
   "outputs": [
    {
     "name": "stderr",
     "output_type": "stream",
     "text": [
      "/data1/enginekevin/anaconda3/envs/dm2/lib/python3.9/site-packages/tqdm/auto.py:21: TqdmWarning: IProgress not found. Please update jupyter and ipywidgets. See https://ipywidgets.readthedocs.io/en/stable/user_install.html\n",
      "  from .autonotebook import tqdm as notebook_tqdm\n"
     ]
    }
   ],
   "source": [
    "import pandas as pd\n",
    "import torch\n",
    "from transformers import BertTokenizer\n",
    "from sklearn.model_selection import train_test_split\n",
    "from sklearn.preprocessing import LabelEncoder\n",
    "\n",
    "train_texts, val_texts, train_labels, val_labels = train_test_split(\n",
    "    ori_train_df['text'], ori_train_df['emotion'], test_size=0.2, random_state=42\n",
    ")\n",
    "tokenizer = BertTokenizer.from_pretrained(\"bert-base-uncased\")\n",
    "\n",
    "class EmotionDataset(torch.utils.data.Dataset):\n",
    "    def __init__(self, encodings, labels):\n",
    "        self.encodings = encodings\n",
    "        self.labels = labels\n",
    "\n",
    "    def __len__(self):\n",
    "        return len(self.labels)\n",
    "\n",
    "    def __getitem__(self, idx):\n",
    "        item = {key: val[idx] for key, val in self.encodings.items()}\n",
    "        item[\"labels\"] = torch.tensor(self.labels[idx])\n",
    "        return item\n",
    "\n",
    "def tokenize_function(texts):\n",
    "    return tokenizer(list(texts), padding=True, truncation=True, max_length=128, return_tensors=\"pt\")\n",
    "\n",
    "train_encodings = tokenize_function(train_texts)\n",
    "val_encodings = tokenize_function(val_texts)\n",
    "label_encoder = LabelEncoder()\n",
    "train_labels = label_encoder.fit_transform(train_labels)\n",
    "val_labels = label_encoder.transform(val_labels)\n",
    "\n",
    "\n",
    "train_dataset = EmotionDataset(train_encodings, train_labels)\n",
    "val_dataset = EmotionDataset(val_encodings, val_labels)"
   ]
  },
  {
   "cell_type": "code",
   "execution_count": 8,
   "metadata": {},
   "outputs": [
    {
     "name": "stderr",
     "output_type": "stream",
     "text": [
      "2024-12-02 10:52:15.629657: I tensorflow/core/util/port.cc:153] oneDNN custom operations are on. You may see slightly different numerical results due to floating-point round-off errors from different computation orders. To turn them off, set the environment variable `TF_ENABLE_ONEDNN_OPTS=0`.\n",
      "2024-12-02 10:52:16.359906: E external/local_xla/xla/stream_executor/cuda/cuda_fft.cc:477] Unable to register cuFFT factory: Attempting to register factory for plugin cuFFT when one has already been registered\n",
      "WARNING: All log messages before absl::InitializeLog() is called are written to STDERR\n",
      "E0000 00:00:1733136736.531872 3700308 cuda_dnn.cc:8310] Unable to register cuDNN factory: Attempting to register factory for plugin cuDNN when one has already been registered\n",
      "E0000 00:00:1733136736.586655 3700308 cuda_blas.cc:1418] Unable to register cuBLAS factory: Attempting to register factory for plugin cuBLAS when one has already been registered\n",
      "2024-12-02 10:52:17.159694: I tensorflow/core/platform/cpu_feature_guard.cc:210] This TensorFlow binary is optimized to use available CPU instructions in performance-critical operations.\n",
      "To enable the following instructions: AVX2 AVX512F AVX512_VNNI FMA, in other operations, rebuild TensorFlow with the appropriate compiler flags.\n",
      "Some weights of BertForSequenceClassification were not initialized from the model checkpoint at bert-base-uncased and are newly initialized: ['classifier.bias', 'classifier.weight']\n",
      "You should probably TRAIN this model on a down-stream task to be able to use it for predictions and inference.\n",
      "/data1/enginekevin/anaconda3/envs/dm2/lib/python3.9/site-packages/transformers/optimization.py:591: FutureWarning: This implementation of AdamW is deprecated and will be removed in a future version. Use the PyTorch implementation torch.optim.AdamW instead, or set `no_deprecation_warning=True` to disable this warning\n",
      "  warnings.warn(\n",
      "Epoch 0: 100%|██████████| 72460/72460 [1:57:16<00:00, 10.30it/s, loss=0.74] \n"
     ]
    },
    {
     "name": "stdout",
     "output_type": "stream",
     "text": [
      "Validation Accuracy: 0.6427\n"
     ]
    },
    {
     "name": "stderr",
     "output_type": "stream",
     "text": [
      "Epoch 1: 100%|██████████| 72460/72460 [1:57:30<00:00, 10.28it/s, loss=0.00107]\n"
     ]
    },
    {
     "name": "stdout",
     "output_type": "stream",
     "text": [
      "Validation Accuracy: 0.6631\n"
     ]
    },
    {
     "name": "stderr",
     "output_type": "stream",
     "text": [
      "Epoch 2: 100%|██████████| 72460/72460 [1:56:35<00:00, 10.36it/s, loss=0.000839]\n"
     ]
    },
    {
     "name": "stdout",
     "output_type": "stream",
     "text": [
      "Validation Accuracy: 0.6672\n"
     ]
    },
    {
     "data": {
      "text/plain": [
       "('emotion_classifier_model/tokenizer_config.json',\n",
       " 'emotion_classifier_model/special_tokens_map.json',\n",
       " 'emotion_classifier_model/vocab.txt',\n",
       " 'emotion_classifier_model/added_tokens.json')"
      ]
     },
     "execution_count": 8,
     "metadata": {},
     "output_type": "execute_result"
    }
   ],
   "source": [
    "from transformers import BertForSequenceClassification, AdamW, get_scheduler\n",
    "from torch.utils.data import DataLoader\n",
    "from tqdm import tqdm\n",
    "\n",
    "\n",
    "model = BertForSequenceClassification.from_pretrained(\"bert-base-uncased\", num_labels=len(label_encoder.classes_))\n",
    "\n",
    "train_loader = DataLoader(train_dataset, batch_size=16, shuffle=True)\n",
    "val_loader = DataLoader(val_dataset, batch_size=16)\n",
    "\n",
    "optimizer = AdamW(model.parameters(), lr=5e-5)\n",
    "epochs = 3\n",
    "num_training_steps = len(train_loader) * epochs\n",
    "lr_scheduler = get_scheduler(\"linear\", optimizer=optimizer, num_warmup_steps=0, num_training_steps=num_training_steps)\n",
    "device = torch.device(\"cuda\") if torch.cuda.is_available() else torch.device(\"cpu\")\n",
    "model.to(device)\n",
    "\n",
    "for epoch in range(epochs):\n",
    "    model.train()\n",
    "    loop = tqdm(train_loader, leave=True)\n",
    "    for batch in loop:\n",
    "        batch = {k: v.to(device) for k, v in batch.items()}\n",
    "        \n",
    "        outputs = model(**batch)\n",
    "        loss = outputs.loss\n",
    "        loss.backward()\n",
    "        \n",
    "        optimizer.step()\n",
    "        lr_scheduler.step()\n",
    "        optimizer.zero_grad()\n",
    "        \n",
    "        loop.set_description(f\"Epoch {epoch}\")\n",
    "        loop.set_postfix(loss=loss.item())\n",
    "\n",
    "    model.eval()\n",
    "    total, correct = 0, 0\n",
    "    with torch.no_grad():\n",
    "        for batch in val_loader:\n",
    "            batch = {k: v.to(device) for k, v in batch.items()}\n",
    "            outputs = model(**batch)\n",
    "            preds = torch.argmax(outputs.logits, dim=1)\n",
    "            correct += (preds == batch[\"labels\"]).sum().item()\n",
    "            total += batch[\"labels\"].size(0)\n",
    "\n",
    "    print(f\"Validation Accuracy: {correct / total:.4f}\")\n",
    "model.save_pretrained(\"emotion_classifier_model\")\n",
    "tokenizer.save_pretrained(\"emotion_classifier_model\")"
   ]
  },
  {
   "cell_type": "code",
   "execution_count": 11,
   "metadata": {},
   "outputs": [
    {
     "name": "stderr",
     "output_type": "stream",
     "text": [
      "100%|██████████| 25749/25749 [27:52<00:00, 15.39it/s]\n"
     ]
    }
   ],
   "source": [
    "from transformers import BertTokenizer, BertForSequenceClassification\n",
    "import pandas as pd\n",
    "import torch\n",
    "from tqdm import tqdm\n",
    "from sklearn.preprocessing import LabelEncoder\n",
    "\n",
    "test_df = data[data[\"identification\"] == \"test\"].reset_index(drop=True)\n",
    "model = BertForSequenceClassification.from_pretrained(\"emotion_classifier_model\")\n",
    "tokenizer = BertTokenizer.from_pretrained(\"emotion_classifier_model\")\n",
    "\n",
    "device = torch.device(\"cuda\") if torch.cuda.is_available() else torch.device(\"cpu\")\n",
    "model.to(device)\n",
    "model.eval()\n",
    "\n",
    "def tokenize_function(texts):\n",
    "    return tokenizer(list(texts), padding=True, truncation=True, max_length=128, return_tensors=\"pt\")\n",
    "\n",
    "test_encodings = tokenize_function(test_df['text'])\n",
    "test_dataset = torch.utils.data.TensorDataset(\n",
    "    test_encodings[\"input_ids\"], test_encodings[\"attention_mask\"]\n",
    ")\n",
    "test_loader = torch.utils.data.DataLoader(test_dataset, batch_size=16, shuffle=False)\n",
    "\n",
    "predictions = []\n",
    "with torch.no_grad():\n",
    "    for batch in tqdm(test_loader):\n",
    "        input_ids, attention_mask = [b.to(device) for b in batch]\n",
    "        outputs = model(input_ids=input_ids, attention_mask=attention_mask)\n",
    "        logits = outputs.logits\n",
    "        preds = torch.argmax(logits, dim=1)\n",
    "        predictions.extend(preds.cpu().numpy())\n",
    "\n",
    "label_encoder = LabelEncoder()\n",
    "label_encoder.fit(train_df['emotion'])\n",
    "test_df['emotion'] = label_encoder.inverse_transform(predictions)\n",
    "\n",
    "save_df = test_df[['tweet_id', 'emotion']].rename(columns={'tweet_id': 'id'})\n",
    "save_df.to_csv(\"data/submission.csv\", index=False)"
   ]
  }
 ],
 "metadata": {
  "kernelspec": {
   "display_name": "dm2",
   "language": "python",
   "name": "python3"
  },
  "language_info": {
   "codemirror_mode": {
    "name": "ipython",
    "version": 3
   },
   "file_extension": ".py",
   "mimetype": "text/x-python",
   "name": "python",
   "nbconvert_exporter": "python",
   "pygments_lexer": "ipython3",
   "version": "3.9.20"
  }
 },
 "nbformat": 4,
 "nbformat_minor": 2
}
